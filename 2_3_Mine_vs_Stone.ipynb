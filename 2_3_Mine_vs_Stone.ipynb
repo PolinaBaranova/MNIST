{
  "nbformat": 4,
  "nbformat_minor": 0,
  "metadata": {
    "colab": {
      "name": "ДЗ Pro. #2 Полносвязные сети, обучающая и тестовая выборки",
      "provenance": [],
      "authorship_tag": "ABX9TyOgCigttmTBMpm86SqxocRw",
      "include_colab_link": true
    },
    "kernelspec": {
      "name": "python3",
      "display_name": "Python 3"
    },
    "language_info": {
      "name": "python"
    },
    "accelerator": "GPU"
  },
  "cells": [
    {
      "cell_type": "markdown",
      "metadata": {
        "id": "view-in-github",
        "colab_type": "text"
      },
      "source": [
        "<a href=\"https://colab.research.google.com/github/PolinaBaranova/MNIST/blob/main/2_3_Mine_vs_Stone.ipynb\" target=\"_parent\"><img src=\"https://colab.research.google.com/assets/colab-badge.svg\" alt=\"Open In Colab\"/></a>"
      ]
    },
    {
      "cell_type": "markdown",
      "metadata": {
        "id": "seebk1tXPOKq"
      },
      "source": [
        "## Задание Pro\n",
        "\n",
        "Повысьте точность модели по обнаружению мин до 90 % на тестовой выборке. \n",
        "\n",
        "Можно использовать различные варианты слоев Dropout и BatchNormalization. Можно менять количество примеров в обучающей и проверочной выборках, но нельзя менять количество примеров в тестовой."
      ]
    },
    {
      "cell_type": "markdown",
      "metadata": {
        "id": "PGmd34sCPe9B"
      },
      "source": [
        "### Импорт библиотек"
      ]
    },
    {
      "cell_type": "code",
      "metadata": {
        "id": "3FKooBwzPi7k"
      },
      "source": [
        "from tensorflow.keras.models import Sequential\n",
        "from tensorflow.keras.layers import Dense, Activation, Dropout, BatchNormalization\n",
        "from tensorflow.keras.optimizers import Adam, Adadelta\n",
        "from tensorflow.keras.preprocessing import image\n",
        "from tensorflow.keras import utils\n",
        "\n",
        "import numpy as np\n",
        "import pandas as pd\n",
        "import matplotlib.pyplot as plt\n",
        "from PIL import Image\n",
        "\n",
        "from google.colab import files\n",
        "from sklearn.preprocessing import LabelEncoder, StandardScaler\n",
        "from sklearn import preprocessing\n",
        "\n",
        "%matplotlib inline"
      ],
      "execution_count": null,
      "outputs": []
    },
    {
      "cell_type": "markdown",
      "metadata": {
        "id": "OGC8aNlNRN2N"
      },
      "source": [
        "### Загрузка файла и данных"
      ]
    },
    {
      "cell_type": "code",
      "metadata": {
        "colab": {
          "resources": {
            "http://localhost:8080/nbextensions/google.colab/files.js": {
              "data": "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",
              "ok": true,
              "headers": [
                [
                  "content-type",
                  "application/javascript"
                ]
              ],
              "status": 200,
              "status_text": ""
            }
          },
          "base_uri": "https://localhost:8080/",
          "height": 90
        },
        "id": "-z5D6vs_RRCT",
        "outputId": "9a5c1dd2-70e8-487a-ead0-5765a9848c98"
      },
      "source": [
        "files.upload()\n",
        "!ls"
      ],
      "execution_count": null,
      "outputs": [
        {
          "output_type": "display_data",
          "data": {
            "text/html": [
              "\n",
              "     <input type=\"file\" id=\"files-d65e4495-c3c4-4e06-8d71-299ef10b49b0\" name=\"files[]\" multiple disabled\n",
              "        style=\"border:none\" />\n",
              "     <output id=\"result-d65e4495-c3c4-4e06-8d71-299ef10b49b0\">\n",
              "      Upload widget is only available when the cell has been executed in the\n",
              "      current browser session. Please rerun this cell to enable.\n",
              "      </output>\n",
              "      <script src=\"/nbextensions/google.colab/files.js\"></script> "
            ],
            "text/plain": [
              "<IPython.core.display.HTML object>"
            ]
          },
          "metadata": {
            "tags": []
          }
        },
        {
          "output_type": "stream",
          "text": [
            "Saving sonar.csv to sonar.csv\n",
            "sample_data  sonar.csv\n"
          ],
          "name": "stdout"
        }
      ]
    },
    {
      "cell_type": "code",
      "metadata": {
        "colab": {
          "base_uri": "https://localhost:8080/",
          "height": 215
        },
        "id": "xYk9SiHXRhB8",
        "outputId": "19d31c07-13ac-4998-ae2e-3ee9157e1125"
      },
      "source": [
        "df = pd.read_csv('sonar.csv', header=None)\n",
        "df.head()"
      ],
      "execution_count": null,
      "outputs": [
        {
          "output_type": "execute_result",
          "data": {
            "text/html": [
              "<div>\n",
              "<style scoped>\n",
              "    .dataframe tbody tr th:only-of-type {\n",
              "        vertical-align: middle;\n",
              "    }\n",
              "\n",
              "    .dataframe tbody tr th {\n",
              "        vertical-align: top;\n",
              "    }\n",
              "\n",
              "    .dataframe thead th {\n",
              "        text-align: right;\n",
              "    }\n",
              "</style>\n",
              "<table border=\"1\" class=\"dataframe\">\n",
              "  <thead>\n",
              "    <tr style=\"text-align: right;\">\n",
              "      <th></th>\n",
              "      <th>0</th>\n",
              "      <th>1</th>\n",
              "      <th>2</th>\n",
              "      <th>3</th>\n",
              "      <th>4</th>\n",
              "      <th>5</th>\n",
              "      <th>6</th>\n",
              "      <th>7</th>\n",
              "      <th>8</th>\n",
              "      <th>9</th>\n",
              "      <th>10</th>\n",
              "      <th>11</th>\n",
              "      <th>12</th>\n",
              "      <th>13</th>\n",
              "      <th>14</th>\n",
              "      <th>15</th>\n",
              "      <th>16</th>\n",
              "      <th>17</th>\n",
              "      <th>18</th>\n",
              "      <th>19</th>\n",
              "      <th>20</th>\n",
              "      <th>21</th>\n",
              "      <th>22</th>\n",
              "      <th>23</th>\n",
              "      <th>24</th>\n",
              "      <th>25</th>\n",
              "      <th>26</th>\n",
              "      <th>27</th>\n",
              "      <th>28</th>\n",
              "      <th>29</th>\n",
              "      <th>30</th>\n",
              "      <th>31</th>\n",
              "      <th>32</th>\n",
              "      <th>33</th>\n",
              "      <th>34</th>\n",
              "      <th>35</th>\n",
              "      <th>36</th>\n",
              "      <th>37</th>\n",
              "      <th>38</th>\n",
              "      <th>39</th>\n",
              "      <th>40</th>\n",
              "      <th>41</th>\n",
              "      <th>42</th>\n",
              "      <th>43</th>\n",
              "      <th>44</th>\n",
              "      <th>45</th>\n",
              "      <th>46</th>\n",
              "      <th>47</th>\n",
              "      <th>48</th>\n",
              "      <th>49</th>\n",
              "      <th>50</th>\n",
              "      <th>51</th>\n",
              "      <th>52</th>\n",
              "      <th>53</th>\n",
              "      <th>54</th>\n",
              "      <th>55</th>\n",
              "      <th>56</th>\n",
              "      <th>57</th>\n",
              "      <th>58</th>\n",
              "      <th>59</th>\n",
              "      <th>60</th>\n",
              "    </tr>\n",
              "  </thead>\n",
              "  <tbody>\n",
              "    <tr>\n",
              "      <th>0</th>\n",
              "      <td>0.0200</td>\n",
              "      <td>0.0371</td>\n",
              "      <td>0.0428</td>\n",
              "      <td>0.0207</td>\n",
              "      <td>0.0954</td>\n",
              "      <td>0.0986</td>\n",
              "      <td>0.1539</td>\n",
              "      <td>0.1601</td>\n",
              "      <td>0.3109</td>\n",
              "      <td>0.2111</td>\n",
              "      <td>0.1609</td>\n",
              "      <td>0.1582</td>\n",
              "      <td>0.2238</td>\n",
              "      <td>0.0645</td>\n",
              "      <td>0.0660</td>\n",
              "      <td>0.2273</td>\n",
              "      <td>0.3100</td>\n",
              "      <td>0.2999</td>\n",
              "      <td>0.5078</td>\n",
              "      <td>0.4797</td>\n",
              "      <td>0.5783</td>\n",
              "      <td>0.5071</td>\n",
              "      <td>0.4328</td>\n",
              "      <td>0.5550</td>\n",
              "      <td>0.6711</td>\n",
              "      <td>0.6415</td>\n",
              "      <td>0.7104</td>\n",
              "      <td>0.8080</td>\n",
              "      <td>0.6791</td>\n",
              "      <td>0.3857</td>\n",
              "      <td>0.1307</td>\n",
              "      <td>0.2604</td>\n",
              "      <td>0.5121</td>\n",
              "      <td>0.7547</td>\n",
              "      <td>0.8537</td>\n",
              "      <td>0.8507</td>\n",
              "      <td>0.6692</td>\n",
              "      <td>0.6097</td>\n",
              "      <td>0.4943</td>\n",
              "      <td>0.2744</td>\n",
              "      <td>0.0510</td>\n",
              "      <td>0.2834</td>\n",
              "      <td>0.2825</td>\n",
              "      <td>0.4256</td>\n",
              "      <td>0.2641</td>\n",
              "      <td>0.1386</td>\n",
              "      <td>0.1051</td>\n",
              "      <td>0.1343</td>\n",
              "      <td>0.0383</td>\n",
              "      <td>0.0324</td>\n",
              "      <td>0.0232</td>\n",
              "      <td>0.0027</td>\n",
              "      <td>0.0065</td>\n",
              "      <td>0.0159</td>\n",
              "      <td>0.0072</td>\n",
              "      <td>0.0167</td>\n",
              "      <td>0.0180</td>\n",
              "      <td>0.0084</td>\n",
              "      <td>0.0090</td>\n",
              "      <td>0.0032</td>\n",
              "      <td>R</td>\n",
              "    </tr>\n",
              "    <tr>\n",
              "      <th>1</th>\n",
              "      <td>0.0453</td>\n",
              "      <td>0.0523</td>\n",
              "      <td>0.0843</td>\n",
              "      <td>0.0689</td>\n",
              "      <td>0.1183</td>\n",
              "      <td>0.2583</td>\n",
              "      <td>0.2156</td>\n",
              "      <td>0.3481</td>\n",
              "      <td>0.3337</td>\n",
              "      <td>0.2872</td>\n",
              "      <td>0.4918</td>\n",
              "      <td>0.6552</td>\n",
              "      <td>0.6919</td>\n",
              "      <td>0.7797</td>\n",
              "      <td>0.7464</td>\n",
              "      <td>0.9444</td>\n",
              "      <td>1.0000</td>\n",
              "      <td>0.8874</td>\n",
              "      <td>0.8024</td>\n",
              "      <td>0.7818</td>\n",
              "      <td>0.5212</td>\n",
              "      <td>0.4052</td>\n",
              "      <td>0.3957</td>\n",
              "      <td>0.3914</td>\n",
              "      <td>0.3250</td>\n",
              "      <td>0.3200</td>\n",
              "      <td>0.3271</td>\n",
              "      <td>0.2767</td>\n",
              "      <td>0.4423</td>\n",
              "      <td>0.2028</td>\n",
              "      <td>0.3788</td>\n",
              "      <td>0.2947</td>\n",
              "      <td>0.1984</td>\n",
              "      <td>0.2341</td>\n",
              "      <td>0.1306</td>\n",
              "      <td>0.4182</td>\n",
              "      <td>0.3835</td>\n",
              "      <td>0.1057</td>\n",
              "      <td>0.1840</td>\n",
              "      <td>0.1970</td>\n",
              "      <td>0.1674</td>\n",
              "      <td>0.0583</td>\n",
              "      <td>0.1401</td>\n",
              "      <td>0.1628</td>\n",
              "      <td>0.0621</td>\n",
              "      <td>0.0203</td>\n",
              "      <td>0.0530</td>\n",
              "      <td>0.0742</td>\n",
              "      <td>0.0409</td>\n",
              "      <td>0.0061</td>\n",
              "      <td>0.0125</td>\n",
              "      <td>0.0084</td>\n",
              "      <td>0.0089</td>\n",
              "      <td>0.0048</td>\n",
              "      <td>0.0094</td>\n",
              "      <td>0.0191</td>\n",
              "      <td>0.0140</td>\n",
              "      <td>0.0049</td>\n",
              "      <td>0.0052</td>\n",
              "      <td>0.0044</td>\n",
              "      <td>R</td>\n",
              "    </tr>\n",
              "    <tr>\n",
              "      <th>2</th>\n",
              "      <td>0.0262</td>\n",
              "      <td>0.0582</td>\n",
              "      <td>0.1099</td>\n",
              "      <td>0.1083</td>\n",
              "      <td>0.0974</td>\n",
              "      <td>0.2280</td>\n",
              "      <td>0.2431</td>\n",
              "      <td>0.3771</td>\n",
              "      <td>0.5598</td>\n",
              "      <td>0.6194</td>\n",
              "      <td>0.6333</td>\n",
              "      <td>0.7060</td>\n",
              "      <td>0.5544</td>\n",
              "      <td>0.5320</td>\n",
              "      <td>0.6479</td>\n",
              "      <td>0.6931</td>\n",
              "      <td>0.6759</td>\n",
              "      <td>0.7551</td>\n",
              "      <td>0.8929</td>\n",
              "      <td>0.8619</td>\n",
              "      <td>0.7974</td>\n",
              "      <td>0.6737</td>\n",
              "      <td>0.4293</td>\n",
              "      <td>0.3648</td>\n",
              "      <td>0.5331</td>\n",
              "      <td>0.2413</td>\n",
              "      <td>0.5070</td>\n",
              "      <td>0.8533</td>\n",
              "      <td>0.6036</td>\n",
              "      <td>0.8514</td>\n",
              "      <td>0.8512</td>\n",
              "      <td>0.5045</td>\n",
              "      <td>0.1862</td>\n",
              "      <td>0.2709</td>\n",
              "      <td>0.4232</td>\n",
              "      <td>0.3043</td>\n",
              "      <td>0.6116</td>\n",
              "      <td>0.6756</td>\n",
              "      <td>0.5375</td>\n",
              "      <td>0.4719</td>\n",
              "      <td>0.4647</td>\n",
              "      <td>0.2587</td>\n",
              "      <td>0.2129</td>\n",
              "      <td>0.2222</td>\n",
              "      <td>0.2111</td>\n",
              "      <td>0.0176</td>\n",
              "      <td>0.1348</td>\n",
              "      <td>0.0744</td>\n",
              "      <td>0.0130</td>\n",
              "      <td>0.0106</td>\n",
              "      <td>0.0033</td>\n",
              "      <td>0.0232</td>\n",
              "      <td>0.0166</td>\n",
              "      <td>0.0095</td>\n",
              "      <td>0.0180</td>\n",
              "      <td>0.0244</td>\n",
              "      <td>0.0316</td>\n",
              "      <td>0.0164</td>\n",
              "      <td>0.0095</td>\n",
              "      <td>0.0078</td>\n",
              "      <td>R</td>\n",
              "    </tr>\n",
              "    <tr>\n",
              "      <th>3</th>\n",
              "      <td>0.0100</td>\n",
              "      <td>0.0171</td>\n",
              "      <td>0.0623</td>\n",
              "      <td>0.0205</td>\n",
              "      <td>0.0205</td>\n",
              "      <td>0.0368</td>\n",
              "      <td>0.1098</td>\n",
              "      <td>0.1276</td>\n",
              "      <td>0.0598</td>\n",
              "      <td>0.1264</td>\n",
              "      <td>0.0881</td>\n",
              "      <td>0.1992</td>\n",
              "      <td>0.0184</td>\n",
              "      <td>0.2261</td>\n",
              "      <td>0.1729</td>\n",
              "      <td>0.2131</td>\n",
              "      <td>0.0693</td>\n",
              "      <td>0.2281</td>\n",
              "      <td>0.4060</td>\n",
              "      <td>0.3973</td>\n",
              "      <td>0.2741</td>\n",
              "      <td>0.3690</td>\n",
              "      <td>0.5556</td>\n",
              "      <td>0.4846</td>\n",
              "      <td>0.3140</td>\n",
              "      <td>0.5334</td>\n",
              "      <td>0.5256</td>\n",
              "      <td>0.2520</td>\n",
              "      <td>0.2090</td>\n",
              "      <td>0.3559</td>\n",
              "      <td>0.6260</td>\n",
              "      <td>0.7340</td>\n",
              "      <td>0.6120</td>\n",
              "      <td>0.3497</td>\n",
              "      <td>0.3953</td>\n",
              "      <td>0.3012</td>\n",
              "      <td>0.5408</td>\n",
              "      <td>0.8814</td>\n",
              "      <td>0.9857</td>\n",
              "      <td>0.9167</td>\n",
              "      <td>0.6121</td>\n",
              "      <td>0.5006</td>\n",
              "      <td>0.3210</td>\n",
              "      <td>0.3202</td>\n",
              "      <td>0.4295</td>\n",
              "      <td>0.3654</td>\n",
              "      <td>0.2655</td>\n",
              "      <td>0.1576</td>\n",
              "      <td>0.0681</td>\n",
              "      <td>0.0294</td>\n",
              "      <td>0.0241</td>\n",
              "      <td>0.0121</td>\n",
              "      <td>0.0036</td>\n",
              "      <td>0.0150</td>\n",
              "      <td>0.0085</td>\n",
              "      <td>0.0073</td>\n",
              "      <td>0.0050</td>\n",
              "      <td>0.0044</td>\n",
              "      <td>0.0040</td>\n",
              "      <td>0.0117</td>\n",
              "      <td>R</td>\n",
              "    </tr>\n",
              "    <tr>\n",
              "      <th>4</th>\n",
              "      <td>0.0762</td>\n",
              "      <td>0.0666</td>\n",
              "      <td>0.0481</td>\n",
              "      <td>0.0394</td>\n",
              "      <td>0.0590</td>\n",
              "      <td>0.0649</td>\n",
              "      <td>0.1209</td>\n",
              "      <td>0.2467</td>\n",
              "      <td>0.3564</td>\n",
              "      <td>0.4459</td>\n",
              "      <td>0.4152</td>\n",
              "      <td>0.3952</td>\n",
              "      <td>0.4256</td>\n",
              "      <td>0.4135</td>\n",
              "      <td>0.4528</td>\n",
              "      <td>0.5326</td>\n",
              "      <td>0.7306</td>\n",
              "      <td>0.6193</td>\n",
              "      <td>0.2032</td>\n",
              "      <td>0.4636</td>\n",
              "      <td>0.4148</td>\n",
              "      <td>0.4292</td>\n",
              "      <td>0.5730</td>\n",
              "      <td>0.5399</td>\n",
              "      <td>0.3161</td>\n",
              "      <td>0.2285</td>\n",
              "      <td>0.6995</td>\n",
              "      <td>1.0000</td>\n",
              "      <td>0.7262</td>\n",
              "      <td>0.4724</td>\n",
              "      <td>0.5103</td>\n",
              "      <td>0.5459</td>\n",
              "      <td>0.2881</td>\n",
              "      <td>0.0981</td>\n",
              "      <td>0.1951</td>\n",
              "      <td>0.4181</td>\n",
              "      <td>0.4604</td>\n",
              "      <td>0.3217</td>\n",
              "      <td>0.2828</td>\n",
              "      <td>0.2430</td>\n",
              "      <td>0.1979</td>\n",
              "      <td>0.2444</td>\n",
              "      <td>0.1847</td>\n",
              "      <td>0.0841</td>\n",
              "      <td>0.0692</td>\n",
              "      <td>0.0528</td>\n",
              "      <td>0.0357</td>\n",
              "      <td>0.0085</td>\n",
              "      <td>0.0230</td>\n",
              "      <td>0.0046</td>\n",
              "      <td>0.0156</td>\n",
              "      <td>0.0031</td>\n",
              "      <td>0.0054</td>\n",
              "      <td>0.0105</td>\n",
              "      <td>0.0110</td>\n",
              "      <td>0.0015</td>\n",
              "      <td>0.0072</td>\n",
              "      <td>0.0048</td>\n",
              "      <td>0.0107</td>\n",
              "      <td>0.0094</td>\n",
              "      <td>R</td>\n",
              "    </tr>\n",
              "  </tbody>\n",
              "</table>\n",
              "</div>"
            ],
            "text/plain": [
              "       0       1       2       3       4   ...      56      57      58      59  60\n",
              "0  0.0200  0.0371  0.0428  0.0207  0.0954  ...  0.0180  0.0084  0.0090  0.0032   R\n",
              "1  0.0453  0.0523  0.0843  0.0689  0.1183  ...  0.0140  0.0049  0.0052  0.0044   R\n",
              "2  0.0262  0.0582  0.1099  0.1083  0.0974  ...  0.0316  0.0164  0.0095  0.0078   R\n",
              "3  0.0100  0.0171  0.0623  0.0205  0.0205  ...  0.0050  0.0044  0.0040  0.0117   R\n",
              "4  0.0762  0.0666  0.0481  0.0394  0.0590  ...  0.0072  0.0048  0.0107  0.0094   R\n",
              "\n",
              "[5 rows x 61 columns]"
            ]
          },
          "metadata": {
            "tags": []
          },
          "execution_count": 5
        }
      ]
    },
    {
      "cell_type": "code",
      "metadata": {
        "colab": {
          "base_uri": "https://localhost:8080/"
        },
        "id": "VKGG5SvCSM32",
        "outputId": "f58f3fe1-8245-4fc5-9222-a2a31c4f4a10"
      },
      "source": [
        "print(df.shape)"
      ],
      "execution_count": null,
      "outputs": [
        {
          "output_type": "stream",
          "text": [
            "(208, 61)\n"
          ],
          "name": "stdout"
        }
      ]
    },
    {
      "cell_type": "markdown",
      "metadata": {
        "id": "jlUyxd_hTuEu"
      },
      "source": [
        "### Подготовка данных"
      ]
    },
    {
      "cell_type": "code",
      "metadata": {
        "colab": {
          "base_uri": "https://localhost:8080/"
        },
        "id": "as8zwr9JSeea",
        "outputId": "0568ef62-5715-4094-a958-ffca8d316fc5"
      },
      "source": [
        "dataset = df.values\n",
        "X = dataset[:, 0:60].astype(float)\n",
        "Y = dataset[:, 60]\n",
        "Y[Y == 'R'] = 0\n",
        "Y[Y == 'M'] = 1\n",
        "Y = Y.astype(int)\n",
        "print(X.shape)\n",
        "print(Y.shape)\n",
        "print(Y)"
      ],
      "execution_count": null,
      "outputs": [
        {
          "output_type": "stream",
          "text": [
            "(208, 60)\n",
            "(208,)\n",
            "[0 0 0 0 0 0 0 0 0 0 0 0 0 0 0 0 0 0 0 0 0 0 0 0 0 0 0 0 0 0 0 0 0 0 0 0 0\n",
            " 0 0 0 0 0 0 0 0 0 0 0 0 0 0 0 0 0 0 0 0 0 0 0 0 0 0 0 0 0 0 0 0 0 0 0 0 0\n",
            " 0 0 0 0 0 0 0 0 0 0 0 0 0 0 0 0 0 0 0 0 0 0 0 1 1 1 1 1 1 1 1 1 1 1 1 1 1\n",
            " 1 1 1 1 1 1 1 1 1 1 1 1 1 1 1 1 1 1 1 1 1 1 1 1 1 1 1 1 1 1 1 1 1 1 1 1 1\n",
            " 1 1 1 1 1 1 1 1 1 1 1 1 1 1 1 1 1 1 1 1 1 1 1 1 1 1 1 1 1 1 1 1 1 1 1 1 1\n",
            " 1 1 1 1 1 1 1 1 1 1 1 1 1 1 1 1 1 1 1 1 1 1 1]\n"
          ],
          "name": "stdout"
        }
      ]
    },
    {
      "cell_type": "markdown",
      "metadata": {
        "id": "g_fG9-IlVw0N"
      },
      "source": [
        "### Создание обучающей, поверочной и тестовой выборки"
      ]
    },
    {
      "cell_type": "code",
      "metadata": {
        "colab": {
          "base_uri": "https://localhost:8080/"
        },
        "id": "K8V2k66zVjEM",
        "outputId": "32e72ce0-4688-49f1-99f1-5b1b33905e9b"
      },
      "source": [
        "from sklearn.model_selection import train_test_split\n",
        "x_train, x_test, y_train, y_test = train_test_split(X, Y, test_size=0.2, shuffle=True)\n",
        "print(x_train.shape)\n",
        "print(x_test.shape)\n",
        "print(y_train.shape)\n",
        "print(y_test.shape)"
      ],
      "execution_count": null,
      "outputs": [
        {
          "output_type": "stream",
          "text": [
            "(187, 60)\n",
            "(21, 60)\n",
            "(187,)\n",
            "(21,)\n"
          ],
          "name": "stdout"
        }
      ]
    },
    {
      "cell_type": "markdown",
      "metadata": {
        "id": "SqkYCLFkZuS1"
      },
      "source": [
        "### Создание нейронной сети"
      ]
    },
    {
      "cell_type": "code",
      "metadata": {
        "id": "wMln24UkZnCT"
      },
      "source": [
        " def CreateModel():\n",
        "   model = Sequential()\n",
        "   model.add(BatchNormalization(input_dim=60))\n",
        "   model.add(Dense(60, activation='relu'))\n",
        "   model.add(Dense(30, activation='relu'))\n",
        "   model.add(Dense(1, activation='sigmoid'))\n",
        "   model.compile(loss='binary_crossentropy', optimizer='Adam', metrics=['accuracy'])\n",
        "   return model"
      ],
      "execution_count": null,
      "outputs": []
    },
    {
      "cell_type": "code",
      "metadata": {
        "colab": {
          "base_uri": "https://localhost:8080/"
        },
        "id": "Q8CVJFpsb__e",
        "outputId": "4ed6d72f-69f0-4f3d-dd8f-f6f24f95d862"
      },
      "source": [
        "model = CreateModel()\n",
        "model.fit(x_train, y_train,\n",
        "          batch_size=7,\n",
        "          epochs=100,\n",
        "          validation_split=0.15,\n",
        "          verbose=1)"
      ],
      "execution_count": null,
      "outputs": [
        {
          "output_type": "stream",
          "text": [
            "Epoch 1/100\n",
            "23/23 [==============================] - 1s 10ms/step - loss: 0.7234 - accuracy: 0.5078 - val_loss: 0.6528 - val_accuracy: 0.7241\n",
            "Epoch 2/100\n",
            "23/23 [==============================] - 0s 4ms/step - loss: 0.5875 - accuracy: 0.7214 - val_loss: 0.6232 - val_accuracy: 0.7586\n",
            "Epoch 3/100\n",
            "23/23 [==============================] - 0s 3ms/step - loss: 0.4852 - accuracy: 0.8440 - val_loss: 0.5958 - val_accuracy: 0.7241\n",
            "Epoch 4/100\n",
            "23/23 [==============================] - 0s 3ms/step - loss: 0.4325 - accuracy: 0.8117 - val_loss: 0.5795 - val_accuracy: 0.7586\n",
            "Epoch 5/100\n",
            "23/23 [==============================] - 0s 3ms/step - loss: 0.3902 - accuracy: 0.8478 - val_loss: 0.5554 - val_accuracy: 0.7586\n",
            "Epoch 6/100\n",
            "23/23 [==============================] - 0s 3ms/step - loss: 0.3400 - accuracy: 0.8570 - val_loss: 0.5448 - val_accuracy: 0.7241\n",
            "Epoch 7/100\n",
            "23/23 [==============================] - 0s 4ms/step - loss: 0.3476 - accuracy: 0.8475 - val_loss: 0.5436 - val_accuracy: 0.7241\n",
            "Epoch 8/100\n",
            "23/23 [==============================] - 0s 4ms/step - loss: 0.2848 - accuracy: 0.9014 - val_loss: 0.5415 - val_accuracy: 0.6552\n",
            "Epoch 9/100\n",
            "23/23 [==============================] - 0s 4ms/step - loss: 0.3072 - accuracy: 0.8841 - val_loss: 0.4989 - val_accuracy: 0.7586\n",
            "Epoch 10/100\n",
            "23/23 [==============================] - 0s 4ms/step - loss: 0.2006 - accuracy: 0.9478 - val_loss: 0.4597 - val_accuracy: 0.7586\n",
            "Epoch 11/100\n",
            "23/23 [==============================] - 0s 4ms/step - loss: 0.2291 - accuracy: 0.9113 - val_loss: 0.4337 - val_accuracy: 0.7586\n",
            "Epoch 12/100\n",
            "23/23 [==============================] - 0s 4ms/step - loss: 0.1868 - accuracy: 0.9280 - val_loss: 0.4343 - val_accuracy: 0.8276\n",
            "Epoch 13/100\n",
            "23/23 [==============================] - 0s 4ms/step - loss: 0.1767 - accuracy: 0.9596 - val_loss: 0.3801 - val_accuracy: 0.8621\n",
            "Epoch 14/100\n",
            "23/23 [==============================] - 0s 4ms/step - loss: 0.2163 - accuracy: 0.9213 - val_loss: 0.3777 - val_accuracy: 0.8621\n",
            "Epoch 15/100\n",
            "23/23 [==============================] - 0s 4ms/step - loss: 0.1290 - accuracy: 0.9650 - val_loss: 0.3671 - val_accuracy: 0.8621\n",
            "Epoch 16/100\n",
            "23/23 [==============================] - 0s 4ms/step - loss: 0.1267 - accuracy: 0.9583 - val_loss: 0.3181 - val_accuracy: 0.8276\n",
            "Epoch 17/100\n",
            "23/23 [==============================] - 0s 4ms/step - loss: 0.1435 - accuracy: 0.9618 - val_loss: 0.3452 - val_accuracy: 0.7931\n",
            "Epoch 18/100\n",
            "23/23 [==============================] - 0s 4ms/step - loss: 0.1434 - accuracy: 0.9402 - val_loss: 0.3362 - val_accuracy: 0.7931\n",
            "Epoch 19/100\n",
            "23/23 [==============================] - 0s 4ms/step - loss: 0.2387 - accuracy: 0.8814 - val_loss: 0.2972 - val_accuracy: 0.8621\n",
            "Epoch 20/100\n",
            "23/23 [==============================] - 0s 3ms/step - loss: 0.1908 - accuracy: 0.9334 - val_loss: 0.2953 - val_accuracy: 0.8276\n",
            "Epoch 21/100\n",
            "23/23 [==============================] - 0s 4ms/step - loss: 0.1233 - accuracy: 0.9565 - val_loss: 0.2325 - val_accuracy: 0.8966\n",
            "Epoch 22/100\n",
            "23/23 [==============================] - 0s 4ms/step - loss: 0.1532 - accuracy: 0.9566 - val_loss: 0.2644 - val_accuracy: 0.8621\n",
            "Epoch 23/100\n",
            "23/23 [==============================] - 0s 4ms/step - loss: 0.0927 - accuracy: 0.9760 - val_loss: 0.2238 - val_accuracy: 0.8966\n",
            "Epoch 24/100\n",
            "23/23 [==============================] - 0s 4ms/step - loss: 0.1510 - accuracy: 0.9378 - val_loss: 0.2030 - val_accuracy: 0.9310\n",
            "Epoch 25/100\n",
            "23/23 [==============================] - 0s 4ms/step - loss: 0.1133 - accuracy: 0.9678 - val_loss: 0.1629 - val_accuracy: 0.9310\n",
            "Epoch 26/100\n",
            "23/23 [==============================] - 0s 3ms/step - loss: 0.0944 - accuracy: 0.9680 - val_loss: 0.1542 - val_accuracy: 0.9310\n",
            "Epoch 27/100\n",
            "23/23 [==============================] - 0s 4ms/step - loss: 0.0799 - accuracy: 0.9861 - val_loss: 0.1559 - val_accuracy: 0.9655\n",
            "Epoch 28/100\n",
            "23/23 [==============================] - 0s 4ms/step - loss: 0.1094 - accuracy: 0.9771 - val_loss: 0.1420 - val_accuracy: 0.9655\n",
            "Epoch 29/100\n",
            "23/23 [==============================] - 0s 4ms/step - loss: 0.0546 - accuracy: 0.9922 - val_loss: 0.1142 - val_accuracy: 1.0000\n",
            "Epoch 30/100\n",
            "23/23 [==============================] - 0s 4ms/step - loss: 0.0770 - accuracy: 0.9637 - val_loss: 0.1201 - val_accuracy: 0.9655\n",
            "Epoch 31/100\n",
            "23/23 [==============================] - 0s 4ms/step - loss: 0.0478 - accuracy: 0.9952 - val_loss: 0.1433 - val_accuracy: 0.9655\n",
            "Epoch 32/100\n",
            "23/23 [==============================] - 0s 4ms/step - loss: 0.0447 - accuracy: 0.9933 - val_loss: 0.1118 - val_accuracy: 0.9655\n",
            "Epoch 33/100\n",
            "23/23 [==============================] - 0s 4ms/step - loss: 0.1738 - accuracy: 0.9229 - val_loss: 0.1583 - val_accuracy: 0.9655\n",
            "Epoch 34/100\n",
            "23/23 [==============================] - 0s 4ms/step - loss: 0.1085 - accuracy: 0.9735 - val_loss: 0.1229 - val_accuracy: 0.9655\n",
            "Epoch 35/100\n",
            "23/23 [==============================] - 0s 4ms/step - loss: 0.0296 - accuracy: 1.0000 - val_loss: 0.0952 - val_accuracy: 0.9655\n",
            "Epoch 36/100\n",
            "23/23 [==============================] - 0s 3ms/step - loss: 0.0891 - accuracy: 0.9423 - val_loss: 0.1337 - val_accuracy: 0.9655\n",
            "Epoch 37/100\n",
            "23/23 [==============================] - 0s 4ms/step - loss: 0.0496 - accuracy: 0.9935 - val_loss: 0.0941 - val_accuracy: 0.9655\n",
            "Epoch 38/100\n",
            "23/23 [==============================] - 0s 4ms/step - loss: 0.0756 - accuracy: 0.9803 - val_loss: 0.1765 - val_accuracy: 0.9310\n",
            "Epoch 39/100\n",
            "23/23 [==============================] - 0s 4ms/step - loss: 0.0705 - accuracy: 0.9911 - val_loss: 0.1061 - val_accuracy: 0.9655\n",
            "Epoch 40/100\n",
            "23/23 [==============================] - 0s 4ms/step - loss: 0.0645 - accuracy: 0.9776 - val_loss: 0.1163 - val_accuracy: 0.9655\n",
            "Epoch 41/100\n",
            "23/23 [==============================] - 0s 4ms/step - loss: 0.0924 - accuracy: 0.9587 - val_loss: 0.0983 - val_accuracy: 0.9655\n",
            "Epoch 42/100\n",
            "23/23 [==============================] - 0s 4ms/step - loss: 0.0714 - accuracy: 0.9849 - val_loss: 0.1185 - val_accuracy: 0.9655\n",
            "Epoch 43/100\n",
            "23/23 [==============================] - 0s 4ms/step - loss: 0.0904 - accuracy: 0.9736 - val_loss: 0.0966 - val_accuracy: 0.9655\n",
            "Epoch 44/100\n",
            "23/23 [==============================] - 0s 4ms/step - loss: 0.0292 - accuracy: 0.9943 - val_loss: 0.1591 - val_accuracy: 0.9310\n",
            "Epoch 45/100\n",
            "23/23 [==============================] - 0s 4ms/step - loss: 0.0750 - accuracy: 0.9789 - val_loss: 0.1167 - val_accuracy: 0.9310\n",
            "Epoch 46/100\n",
            "23/23 [==============================] - 0s 4ms/step - loss: 0.0289 - accuracy: 0.9984 - val_loss: 0.0702 - val_accuracy: 1.0000\n",
            "Epoch 47/100\n",
            "23/23 [==============================] - 0s 4ms/step - loss: 0.0618 - accuracy: 0.9707 - val_loss: 0.1133 - val_accuracy: 0.9310\n",
            "Epoch 48/100\n",
            "23/23 [==============================] - 0s 4ms/step - loss: 0.0635 - accuracy: 0.9911 - val_loss: 0.1259 - val_accuracy: 0.9310\n",
            "Epoch 49/100\n",
            "23/23 [==============================] - 0s 4ms/step - loss: 0.0463 - accuracy: 0.9820 - val_loss: 0.1439 - val_accuracy: 0.9655\n",
            "Epoch 50/100\n",
            "23/23 [==============================] - 0s 4ms/step - loss: 0.0250 - accuracy: 0.9980 - val_loss: 0.0777 - val_accuracy: 0.9655\n",
            "Epoch 51/100\n",
            "23/23 [==============================] - 0s 4ms/step - loss: 0.1139 - accuracy: 0.9433 - val_loss: 0.0822 - val_accuracy: 0.9655\n",
            "Epoch 52/100\n",
            "23/23 [==============================] - 0s 4ms/step - loss: 0.1434 - accuracy: 0.9667 - val_loss: 0.0398 - val_accuracy: 1.0000\n",
            "Epoch 53/100\n",
            "23/23 [==============================] - 0s 4ms/step - loss: 0.0483 - accuracy: 0.9913 - val_loss: 0.0753 - val_accuracy: 0.9655\n",
            "Epoch 54/100\n",
            "23/23 [==============================] - 0s 4ms/step - loss: 0.0615 - accuracy: 0.9843 - val_loss: 0.0779 - val_accuracy: 0.9655\n",
            "Epoch 55/100\n",
            "23/23 [==============================] - 0s 4ms/step - loss: 0.0358 - accuracy: 0.9973 - val_loss: 0.1520 - val_accuracy: 0.9655\n",
            "Epoch 56/100\n",
            "23/23 [==============================] - 0s 4ms/step - loss: 0.0520 - accuracy: 0.9787 - val_loss: 0.1485 - val_accuracy: 0.9655\n",
            "Epoch 57/100\n",
            "23/23 [==============================] - 0s 4ms/step - loss: 0.0205 - accuracy: 0.9983 - val_loss: 0.1678 - val_accuracy: 0.9655\n",
            "Epoch 58/100\n",
            "23/23 [==============================] - 0s 3ms/step - loss: 0.0636 - accuracy: 0.9707 - val_loss: 0.0808 - val_accuracy: 0.9655\n",
            "Epoch 59/100\n",
            "23/23 [==============================] - 0s 4ms/step - loss: 0.0363 - accuracy: 0.9886 - val_loss: 0.0876 - val_accuracy: 0.9655\n",
            "Epoch 60/100\n",
            "23/23 [==============================] - 0s 3ms/step - loss: 0.0341 - accuracy: 0.9937 - val_loss: 0.0724 - val_accuracy: 0.9655\n",
            "Epoch 61/100\n",
            "23/23 [==============================] - 0s 4ms/step - loss: 0.0378 - accuracy: 0.9872 - val_loss: 0.0636 - val_accuracy: 1.0000\n",
            "Epoch 62/100\n",
            "23/23 [==============================] - 0s 4ms/step - loss: 0.0457 - accuracy: 0.9892 - val_loss: 0.2362 - val_accuracy: 0.8966\n",
            "Epoch 63/100\n",
            "23/23 [==============================] - 0s 4ms/step - loss: 0.0482 - accuracy: 0.9976 - val_loss: 0.2118 - val_accuracy: 0.9310\n",
            "Epoch 64/100\n",
            "23/23 [==============================] - 0s 4ms/step - loss: 0.0441 - accuracy: 1.0000 - val_loss: 0.1319 - val_accuracy: 0.9655\n",
            "Epoch 65/100\n",
            "23/23 [==============================] - 0s 4ms/step - loss: 0.0340 - accuracy: 1.0000 - val_loss: 0.1584 - val_accuracy: 0.9655\n",
            "Epoch 66/100\n",
            "23/23 [==============================] - 0s 4ms/step - loss: 0.0274 - accuracy: 1.0000 - val_loss: 0.1146 - val_accuracy: 0.9655\n",
            "Epoch 67/100\n",
            "23/23 [==============================] - 0s 4ms/step - loss: 0.0376 - accuracy: 0.9889 - val_loss: 0.0872 - val_accuracy: 0.9655\n",
            "Epoch 68/100\n",
            "23/23 [==============================] - 0s 4ms/step - loss: 0.0267 - accuracy: 1.0000 - val_loss: 0.1344 - val_accuracy: 0.9655\n",
            "Epoch 69/100\n",
            "23/23 [==============================] - 0s 4ms/step - loss: 0.0225 - accuracy: 1.0000 - val_loss: 0.0746 - val_accuracy: 0.9655\n",
            "Epoch 70/100\n",
            "23/23 [==============================] - 0s 4ms/step - loss: 0.0114 - accuracy: 1.0000 - val_loss: 0.0650 - val_accuracy: 0.9655\n",
            "Epoch 71/100\n",
            "23/23 [==============================] - 0s 4ms/step - loss: 0.0683 - accuracy: 0.9784 - val_loss: 0.1282 - val_accuracy: 0.9655\n",
            "Epoch 72/100\n",
            "23/23 [==============================] - 0s 4ms/step - loss: 0.0243 - accuracy: 1.0000 - val_loss: 0.0773 - val_accuracy: 0.9655\n",
            "Epoch 73/100\n",
            "23/23 [==============================] - 0s 4ms/step - loss: 0.0194 - accuracy: 0.9911 - val_loss: 0.0561 - val_accuracy: 0.9655\n",
            "Epoch 74/100\n",
            "23/23 [==============================] - 0s 3ms/step - loss: 0.0192 - accuracy: 0.9937 - val_loss: 0.1506 - val_accuracy: 0.9310\n",
            "Epoch 75/100\n",
            "23/23 [==============================] - 0s 4ms/step - loss: 0.0214 - accuracy: 1.0000 - val_loss: 0.0423 - val_accuracy: 1.0000\n",
            "Epoch 76/100\n",
            "23/23 [==============================] - 0s 4ms/step - loss: 0.0685 - accuracy: 0.9726 - val_loss: 0.2180 - val_accuracy: 0.9655\n",
            "Epoch 77/100\n",
            "23/23 [==============================] - 0s 4ms/step - loss: 0.0453 - accuracy: 0.9764 - val_loss: 0.2382 - val_accuracy: 0.9655\n",
            "Epoch 78/100\n",
            "23/23 [==============================] - 0s 4ms/step - loss: 0.0247 - accuracy: 0.9881 - val_loss: 0.2290 - val_accuracy: 0.9310\n",
            "Epoch 79/100\n",
            "23/23 [==============================] - 0s 4ms/step - loss: 0.0170 - accuracy: 1.0000 - val_loss: 0.0199 - val_accuracy: 1.0000\n",
            "Epoch 80/100\n",
            "23/23 [==============================] - 0s 4ms/step - loss: 0.0124 - accuracy: 1.0000 - val_loss: 0.0242 - val_accuracy: 1.0000\n",
            "Epoch 81/100\n",
            "23/23 [==============================] - 0s 4ms/step - loss: 0.0163 - accuracy: 0.9992 - val_loss: 0.0438 - val_accuracy: 1.0000\n",
            "Epoch 82/100\n",
            "23/23 [==============================] - 0s 4ms/step - loss: 0.0664 - accuracy: 0.9743 - val_loss: 0.0481 - val_accuracy: 1.0000\n",
            "Epoch 83/100\n",
            "23/23 [==============================] - 0s 3ms/step - loss: 0.0189 - accuracy: 0.9980 - val_loss: 0.0476 - val_accuracy: 1.0000\n",
            "Epoch 84/100\n",
            "23/23 [==============================] - 0s 4ms/step - loss: 0.0304 - accuracy: 0.9929 - val_loss: 0.1162 - val_accuracy: 0.9655\n",
            "Epoch 85/100\n",
            "23/23 [==============================] - 0s 4ms/step - loss: 0.0204 - accuracy: 1.0000 - val_loss: 0.0911 - val_accuracy: 0.9655\n",
            "Epoch 86/100\n",
            "23/23 [==============================] - 0s 4ms/step - loss: 0.0252 - accuracy: 0.9972 - val_loss: 0.1275 - val_accuracy: 0.9655\n",
            "Epoch 87/100\n",
            "23/23 [==============================] - 0s 4ms/step - loss: 0.0276 - accuracy: 0.9864 - val_loss: 0.1962 - val_accuracy: 0.9310\n",
            "Epoch 88/100\n",
            "23/23 [==============================] - 0s 4ms/step - loss: 0.0143 - accuracy: 0.9973 - val_loss: 0.1989 - val_accuracy: 0.9310\n",
            "Epoch 89/100\n",
            "23/23 [==============================] - 0s 4ms/step - loss: 0.0217 - accuracy: 0.9987 - val_loss: 0.2110 - val_accuracy: 0.9310\n",
            "Epoch 90/100\n",
            "23/23 [==============================] - 0s 4ms/step - loss: 0.0250 - accuracy: 0.9960 - val_loss: 0.1740 - val_accuracy: 0.8966\n",
            "Epoch 91/100\n",
            "23/23 [==============================] - 0s 3ms/step - loss: 0.0269 - accuracy: 0.9899 - val_loss: 0.0812 - val_accuracy: 1.0000\n",
            "Epoch 92/100\n",
            "23/23 [==============================] - 0s 4ms/step - loss: 0.0227 - accuracy: 0.9924 - val_loss: 0.1547 - val_accuracy: 0.8966\n",
            "Epoch 93/100\n",
            "23/23 [==============================] - 0s 4ms/step - loss: 0.0654 - accuracy: 0.9588 - val_loss: 0.1737 - val_accuracy: 0.8621\n",
            "Epoch 94/100\n",
            "23/23 [==============================] - 0s 3ms/step - loss: 0.0279 - accuracy: 0.9912 - val_loss: 0.1195 - val_accuracy: 0.9310\n",
            "Epoch 95/100\n",
            "23/23 [==============================] - 0s 4ms/step - loss: 0.0336 - accuracy: 0.9864 - val_loss: 0.1242 - val_accuracy: 0.9655\n",
            "Epoch 96/100\n",
            "23/23 [==============================] - 0s 4ms/step - loss: 0.0610 - accuracy: 0.9817 - val_loss: 0.1607 - val_accuracy: 0.9310\n",
            "Epoch 97/100\n",
            "23/23 [==============================] - 0s 4ms/step - loss: 0.0285 - accuracy: 0.9980 - val_loss: 0.0860 - val_accuracy: 0.9655\n",
            "Epoch 98/100\n",
            "23/23 [==============================] - 0s 4ms/step - loss: 0.0138 - accuracy: 1.0000 - val_loss: 0.0917 - val_accuracy: 0.9310\n",
            "Epoch 99/100\n",
            "23/23 [==============================] - 0s 4ms/step - loss: 0.0261 - accuracy: 0.9949 - val_loss: 0.0657 - val_accuracy: 0.9655\n",
            "Epoch 100/100\n",
            "23/23 [==============================] - 0s 4ms/step - loss: 0.0188 - accuracy: 1.0000 - val_loss: 0.1046 - val_accuracy: 0.9310\n"
          ],
          "name": "stdout"
        },
        {
          "output_type": "execute_result",
          "data": {
            "text/plain": [
              "<tensorflow.python.keras.callbacks.History at 0x7f6d49651290>"
            ]
          },
          "metadata": {
            "tags": []
          },
          "execution_count": 55
        }
      ]
    },
    {
      "cell_type": "markdown",
      "metadata": {
        "id": "x8e1j84tOuRd"
      },
      "source": [
        "### Проверка качества обучения на тестовой выборке"
      ]
    },
    {
      "cell_type": "code",
      "metadata": {
        "id": "B8TXtI4cO6__"
      },
      "source": [
        "scores = model.evaluate(x_test, y_test, verbose=1)\n",
        "print(scores)\n"
      ],
      "execution_count": null,
      "outputs": []
    },
    {
      "cell_type": "code",
      "metadata": {
        "id": "fs4BgJWpPOgW"
      },
      "source": [
        ""
      ],
      "execution_count": null,
      "outputs": []
    }
  ]
}
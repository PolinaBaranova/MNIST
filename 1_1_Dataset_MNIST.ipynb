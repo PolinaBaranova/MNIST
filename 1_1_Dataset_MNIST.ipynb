{
  "nbformat": 4,
  "nbformat_minor": 0,
  "metadata": {
    "colab": {
      "name": "1.1. Dataset MNIST ",
      "provenance": [],
      "toc_visible": true,
      "authorship_tag": "ABX9TyMVKHaLqbTAVmS5MUlkEB7S",
      "include_colab_link": true
    },
    "kernelspec": {
      "name": "python3",
      "display_name": "Python 3"
    },
    "language_info": {
      "name": "python"
    },
    "accelerator": "GPU"
  },
  "cells": [
    {
      "cell_type": "markdown",
      "metadata": {
        "id": "view-in-github",
        "colab_type": "text"
      },
      "source": [
        "<a href=\"https://colab.research.google.com/github/PolinaBaranova/MNIST/blob/main/1_1_Dataset_MNIST.ipynb\" target=\"_parent\"><img src=\"https://colab.research.google.com/assets/colab-badge.svg\" alt=\"Open In Colab\"/></a>"
      ]
    },
    {
      "cell_type": "markdown",
      "metadata": {
        "id": "3huH1IZoZbAS"
      },
      "source": [
        "## Подготовка данных"
      ]
    },
    {
      "cell_type": "code",
      "metadata": {
        "id": "j4cF_hfiXHvT"
      },
      "source": [
        "from tensorflow.keras.datasets import mnist\n",
        "from tensorflow.keras.models import Sequential\n",
        "from tensorflow.keras.layers import Dense\n",
        "from tensorflow.keras.optimizers import Adam\n",
        "from tensorflow.keras.preprocessing import image\n",
        "from tensorflow.keras import utils\n",
        "\n",
        "import numpy as np\n",
        "import pandas as pd\n",
        "import matplotlib.pyplot as plt\n",
        "%matplotlib inline\n",
        "from PIL import Image\n",
        "\n",
        "from google.colab import files"
      ],
      "execution_count": 1,
      "outputs": []
    },
    {
      "cell_type": "code",
      "metadata": {
        "id": "9SG8b1BWZsfj",
        "colab": {
          "base_uri": "https://localhost:8080/"
        },
        "outputId": "c040135f-c6b7-4409-c827-f1c1060c3b3b"
      },
      "source": [
        "(x_train_org, y_train_org), (x_test_org, y_test_org) = mnist.load_data()"
      ],
      "execution_count": 2,
      "outputs": [
        {
          "output_type": "stream",
          "text": [
            "Downloading data from https://storage.googleapis.com/tensorflow/tf-keras-datasets/mnist.npz\n",
            "11493376/11490434 [==============================] - 0s 0us/step\n"
          ],
          "name": "stdout"
        }
      ]
    },
    {
      "cell_type": "code",
      "metadata": {
        "colab": {
          "base_uri": "https://localhost:8080/"
        },
        "id": "Ed46HBgncDFG",
        "outputId": "14c5270b-46cf-47e0-e2f1-674f52a6a040"
      },
      "source": [
        "x_train_org.shape"
      ],
      "execution_count": 3,
      "outputs": [
        {
          "output_type": "execute_result",
          "data": {
            "text/plain": [
              "(60000, 28, 28)"
            ]
          },
          "metadata": {
            "tags": []
          },
          "execution_count": 3
        }
      ]
    },
    {
      "cell_type": "code",
      "metadata": {
        "colab": {
          "base_uri": "https://localhost:8080/",
          "height": 300
        },
        "id": "alHT3nj6cSMm",
        "outputId": "1522d555-da01-42ac-9e5e-bce903c16211"
      },
      "source": [
        "n = 11\n",
        "plt.imshow(Image.fromarray(x_train_org[n]).convert('RGB'))\n",
        "plt.show()\n",
        "print()\n",
        "print('Правильный ответ: ', y_train_org[n])"
      ],
      "execution_count": 4,
      "outputs": [
        {
          "output_type": "display_data",
          "data": {
            "image/png": "[encoded data removed]",
            "text/plain": [
              "<Figure size 432x288 with 1 Axes>"
            ]
          },
          "metadata": {
            "tags": [],
            "needs_background": "light"
          }
        },
        {
          "output_type": "stream",
          "text": [
            "\n",
            "Правильный ответ:  5\n"
          ],
          "name": "stdout"
        }
      ]
    },
    {
      "cell_type": "code",
      "metadata": {
        "colab": {
          "base_uri": "https://localhost:8080/"
        },
        "id": "VMaa0XCdde4G",
        "outputId": "1e8aae8d-332f-47b9-e61b-b6e6e080d1be"
      },
      "source": [
        "#Меняем формат входных картинок\n",
        "x_train = x_train_org.reshape(60000, 784)\n",
        "x_test = x_test_org.reshape(10000, 784)\n",
        "print('Формат НАЧАЛЬНЫХ входных тренировочных данных: ', x_train_org.shape)\n",
        "print('Формат ИЗМЕНЕННЫХ входных тренировочных данных:', x_train.shape)\n",
        "print()\n",
        "print('Формат НАЧАЛЬНЫХ входных тестовых данных: ', x_test_org.shape)\n",
        "print('Формат ИЗМЕНЕННЫХ входных тестовых данных:', x_test.shape)\n"
      ],
      "execution_count": 5,
      "outputs": [
        {
          "output_type": "stream",
          "text": [
            "Формат НАЧАЛЬНЫХ входных тренировочных данных:  (60000, 28, 28)\n",
            "Формат ИЗМЕНЕННЫХ входных тренировочных данных: (60000, 784)\n",
            "\n",
            "Формат НАЧАЛЬНЫХ входных тестовых данных:  (10000, 28, 28)\n",
            "Формат ИЗМЕНЕННЫХ входных тестовых данных: (10000, 784)\n"
          ],
          "name": "stdout"
        }
      ]
    },
    {
      "cell_type": "code",
      "metadata": {
        "id": "4TYN_XR-gQkz"
      },
      "source": [
        "#Нормализуем входные картинки\n",
        "x_train = x_train.astype('float32')\n",
        "x_train = x_train / 255\n",
        "x_test = x_test.astype('float32')\n",
        "x_test = x_test / 255"
      ],
      "execution_count": 6,
      "outputs": []
    },
    {
      "cell_type": "code",
      "metadata": {
        "id": "OL4nbkA-hwxW"
      },
      "source": [
        "#Меняем формат исходных данных\n",
        "y_train = utils.to_categorical(y_train_org, 10)\n",
        "y_test = utils.to_categorical(y_test_org, 10)"
      ],
      "execution_count": 7,
      "outputs": []
    },
    {
      "cell_type": "code",
      "metadata": {
        "colab": {
          "base_uri": "https://localhost:8080/"
        },
        "id": "qwd4WuKgi89m",
        "outputId": "0c784dff-556b-40eb-a5e4-efa321bcae81"
      },
      "source": [
        "print(y_train_org.shape)\n",
        "print(y_train.shape)"
      ],
      "execution_count": 8,
      "outputs": [
        {
          "output_type": "stream",
          "text": [
            "(60000,)\n",
            "(60000, 10)\n"
          ],
          "name": "stdout"
        }
      ]
    },
    {
      "cell_type": "code",
      "metadata": {
        "colab": {
          "base_uri": "https://localhost:8080/"
        },
        "id": "mMTfTBqdjDdH",
        "outputId": "52030d5c-c982-4e88-e9ce-cda29df9563a"
      },
      "source": [
        "print(y_train[2])"
      ],
      "execution_count": 9,
      "outputs": [
        {
          "output_type": "stream",
          "text": [
            "[0. 0. 0. 0. 1. 0. 0. 0. 0. 0.]\n"
          ],
          "name": "stdout"
        }
      ]
    },
    {
      "cell_type": "markdown",
      "metadata": {
        "id": "X3yBTIixncIp"
      },
      "source": [
        "## Создание нейронной сети"
      ]
    },
    {
      "cell_type": "code",
      "metadata": {
        "id": "DPcmhdoll7YI"
      },
      "source": [
        "model = Sequential()\n",
        "model.add(Dense(800, input_dim = 784, activation='relu'))\n",
        "model.add(Dense(400, activation='relu'))\n",
        "model.add(Dense(10, activation='softmax'))"
      ],
      "execution_count": 10,
      "outputs": []
    },
    {
      "cell_type": "code",
      "metadata": {
        "colab": {
          "base_uri": "https://localhost:8080/"
        },
        "id": "F_7G9Pujn_5r",
        "outputId": "2118988a-dad0-4999-b6e1-d82b8fcff3fb"
      },
      "source": [
        "model.compile(loss='categorical_crossentropy', optimizer='adam', metrics=['accuracy'])\n",
        "print(model.summary())"
      ],
      "execution_count": 11,
      "outputs": [
        {
          "output_type": "stream",
          "text": [
            "Model: \"sequential\"\n",
            "_________________________________________________________________\n",
            "Layer (type)                 Output Shape              Param #   \n",
            "=================================================================\n",
            "dense (Dense)                (None, 800)               628000    \n",
            "_________________________________________________________________\n",
            "dense_1 (Dense)              (None, 400)               320400    \n",
            "_________________________________________________________________\n",
            "dense_2 (Dense)              (None, 10)                4010      \n",
            "=================================================================\n",
            "Total params: 952,410\n",
            "Trainable params: 952,410\n",
            "Non-trainable params: 0\n",
            "_________________________________________________________________\n",
            "None\n"
          ],
          "name": "stdout"
        }
      ]
    },
    {
      "cell_type": "markdown",
      "metadata": {
        "id": "b22dQbqcpEjA"
      },
      "source": [
        "## Обучение нейронной сети"
      ]
    },
    {
      "cell_type": "code",
      "metadata": {
        "colab": {
          "base_uri": "https://localhost:8080/"
        },
        "id": "DvBG-zLXod1i",
        "outputId": "3beceb57-688d-468b-92b8-5edafe1950a2"
      },
      "source": [
        "model.fit(x_train, y_train, batch_size=128, epochs=15, verbose=1)"
      ],
      "execution_count": 12,
      "outputs": [
        {
          "output_type": "stream",
          "text": [
            "Epoch 1/15\n",
            "469/469 [==============================] - 4s 3ms/step - loss: 0.3736 - accuracy: 0.8909\n",
            "Epoch 2/15\n",
            "469/469 [==============================] - 1s 3ms/step - loss: 0.0748 - accuracy: 0.9775\n",
            "Epoch 3/15\n",
            "469/469 [==============================] - 1s 3ms/step - loss: 0.0472 - accuracy: 0.9844\n",
            "Epoch 4/15\n",
            "469/469 [==============================] - 1s 3ms/step - loss: 0.0320 - accuracy: 0.9898\n",
            "Epoch 5/15\n",
            "469/469 [==============================] - 1s 3ms/step - loss: 0.0263 - accuracy: 0.9917\n",
            "Epoch 6/15\n",
            "469/469 [==============================] - 1s 3ms/step - loss: 0.0204 - accuracy: 0.9932\n",
            "Epoch 7/15\n",
            "469/469 [==============================] - 1s 3ms/step - loss: 0.0142 - accuracy: 0.9949\n",
            "Epoch 8/15\n",
            "469/469 [==============================] - 1s 3ms/step - loss: 0.0163 - accuracy: 0.9944\n",
            "Epoch 9/15\n",
            "469/469 [==============================] - 1s 3ms/step - loss: 0.0133 - accuracy: 0.9954\n",
            "Epoch 10/15\n",
            "469/469 [==============================] - 1s 3ms/step - loss: 0.0119 - accuracy: 0.9960\n",
            "Epoch 11/15\n",
            "469/469 [==============================] - 1s 3ms/step - loss: 0.0092 - accuracy: 0.9969\n",
            "Epoch 12/15\n",
            "469/469 [==============================] - 1s 3ms/step - loss: 0.0143 - accuracy: 0.9959\n",
            "Epoch 13/15\n",
            "469/469 [==============================] - 1s 3ms/step - loss: 0.0059 - accuracy: 0.9980\n",
            "Epoch 14/15\n",
            "469/469 [==============================] - 1s 3ms/step - loss: 0.0124 - accuracy: 0.9962\n",
            "Epoch 15/15\n",
            "469/469 [==============================] - 1s 3ms/step - loss: 0.0059 - accuracy: 0.9981\n"
          ],
          "name": "stdout"
        },
        {
          "output_type": "execute_result",
          "data": {
            "text/plain": [
              "<tensorflow.python.keras.callbacks.History at 0x7f375d7e8f90>"
            ]
          },
          "metadata": {
            "tags": []
          },
          "execution_count": 12
        }
      ]
    },
    {
      "cell_type": "markdown",
      "metadata": {
        "id": "SSLcD_vlqTXo"
      },
      "source": [
        "## Распознавание рукописных цифр"
      ]
    },
    {
      "cell_type": "code",
      "metadata": {
        "colab": {
          "base_uri": "https://localhost:8080/",
          "height": 265
        },
        "id": "vbsXOCgEqSvy",
        "outputId": "2f3951b6-165d-428e-8c0e-c7f45eca4deb"
      },
      "source": [
        "n_rec = 120 #Номер тестовой цифры, которую будем распознавать\n",
        "plt.imshow(Image.fromarray(x_test_org[n_rec]).convert('RGBA')) # Нарисуем картинку из тестового набора под номером n_rec\n",
        "plt.show()"
      ],
      "execution_count": 13,
      "outputs": [
        {
          "output_type": "display_data",
          "data": {
            "image/png": "[encoded data removed]",
            "text/plain": [
              "<Figure size 432x288 with 1 Axes>"
            ]
          },
          "metadata": {
            "tags": [],
            "needs_background": "light"
          }
        }
      ]
    },
    {
      "cell_type": "code",
      "metadata": {
        "colab": {
          "base_uri": "https://localhost:8080/"
        },
        "id": "kVQhcfEprF9a",
        "outputId": "cf88ea56-c688-4954-badb-302893bf6e81"
      },
      "source": [
        "x = x_test[n_rec]\n",
        "print(x.shape)\n",
        "\n",
        "x = np.expand_dims(x, axis=0)\n",
        "print(x.shape)\n",
        "\n",
        "prediction = model.predict(x)\n",
        "print(prediction)\n",
        "\n",
        "print(sum(prediction[0]))\n",
        "print()\n",
        "\n",
        "pred = np.argmax(prediction)\n",
        "print(pred)\n",
        "print('Правильный ответ:', y_test_org[n_rec])"
      ],
      "execution_count": 15,
      "outputs": [
        {
          "output_type": "stream",
          "text": [
            "(784,)\n",
            "(1, 784)\n",
            "[[3.4376192e-23 2.7393583e-17 3.0350773e-23 1.8669134e-08 1.8538986e-22\n",
            "  1.0000000e+00 1.8253892e-19 6.3134043e-21 5.2929514e-19 5.8476982e-12]]\n",
            "1.0000000186749816\n",
            "\n",
            "5\n",
            "Правильный ответ: 5\n"
          ],
          "name": "stdout"
        }
      ]
    },
    {
      "cell_type": "code",
      "metadata": {
        "id": "vvOnsgH5-vJe"
      },
      "source": [
        ""
      ],
      "execution_count": null,
      "outputs": []
    }
  ]
}